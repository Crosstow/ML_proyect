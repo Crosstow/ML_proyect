{
 "cells": [
  {
   "attachments": {},
   "cell_type": "markdown",
   "metadata": {},
   "source": [
    "<h2><strong> LIMPIEZA DE DATOS Y PREPARACIÓN DEL DATAFRAME"
   ]
  },
  {
   "attachments": {},
   "cell_type": "markdown",
   "metadata": {},
   "source": [
    "<h4> Instalamos los paquetes que se requieran "
   ]
  },
  {
   "cell_type": "code",
   "execution_count": null,
   "metadata": {},
   "outputs": [],
   "source": [
    "# pip install jupyterlab\n",
    "# pip install pandas"
   ]
  },
  {
   "attachments": {},
   "cell_type": "markdown",
   "metadata": {},
   "source": [
    "<h4> Importamos las librerías necesarias para limpiar y manipular los datos:"
   ]
  },
  {
   "cell_type": "code",
   "execution_count": 4,
   "metadata": {},
   "outputs": [],
   "source": [
    "import pandas as pd\n",
    "import numpy as np"
   ]
  },
  {
   "attachments": {},
   "cell_type": "markdown",
   "metadata": {},
   "source": [
    "<h4> Cargamos los datos que tenemos sin limpiar y vemos si coinciden sus columnas:"
   ]
  },
  {
   "cell_type": "code",
   "execution_count": 6,
   "metadata": {},
   "outputs": [],
   "source": [
    "df = pd.read_json('../Data/raw/flexidata.json')"
   ]
  },
  {
   "cell_type": "code",
   "execution_count": 7,
   "metadata": {},
   "outputs": [],
   "source": [
    "df_2 = pd.read_json('../Data/raw/flexidata2.json')"
   ]
  },
  {
   "cell_type": "code",
   "execution_count": 8,
   "metadata": {},
   "outputs": [
    {
     "data": {
      "text/plain": [
       "Index(['Marca', 'Modelo', 'Versión', 'Año', 'Kilómetros', 'Combustible',\n",
       "       'Puertas', 'Cilindrada', 'Potencia (cv)', 'Transmisión',\n",
       "       'Consumo l/100', 'Precio', 'Enlace'],\n",
       "      dtype='object')"
      ]
     },
     "execution_count": 8,
     "metadata": {},
     "output_type": "execute_result"
    }
   ],
   "source": [
    "df.columns"
   ]
  },
  {
   "cell_type": "code",
   "execution_count": 9,
   "metadata": {},
   "outputs": [
    {
     "data": {
      "text/plain": [
       "Index(['Marca', 'Modelo', 'Año', 'Kilómetros', 'Combustible', 'Cilindrada',\n",
       "       'Potencia (cv)', 'Transmisión', 'Consumo l/100', 'Precio'],\n",
       "      dtype='object')"
      ]
     },
     "execution_count": 9,
     "metadata": {},
     "output_type": "execute_result"
    }
   ],
   "source": [
    "df_2.columns"
   ]
  },
  {
   "attachments": {},
   "cell_type": "markdown",
   "metadata": {},
   "source": [
    "<h4> Eliminamos las columnas de más en 'df' y los datos nulos (Nan) en ambos conjuntos:"
   ]
  },
  {
   "cell_type": "code",
   "execution_count": 11,
   "metadata": {},
   "outputs": [],
   "source": [
    "df = df.drop(columns=['Versión', 'Puertas', 'Enlace'], axis=1)"
   ]
  },
  {
   "cell_type": "code",
   "execution_count": 31,
   "metadata": {},
   "outputs": [],
   "source": [
    "df = df.dropna()\n",
    "df_2 = df_2.dropna()"
   ]
  },
  {
   "cell_type": "code",
   "execution_count": 15,
   "metadata": {},
   "outputs": [
    {
     "data": {
      "text/html": [
       "<div>\n",
       "<style scoped>\n",
       "    .dataframe tbody tr th:only-of-type {\n",
       "        vertical-align: middle;\n",
       "    }\n",
       "\n",
       "    .dataframe tbody tr th {\n",
       "        vertical-align: top;\n",
       "    }\n",
       "\n",
       "    .dataframe thead th {\n",
       "        text-align: right;\n",
       "    }\n",
       "</style>\n",
       "<table border=\"1\" class=\"dataframe\">\n",
       "  <thead>\n",
       "    <tr style=\"text-align: right;\">\n",
       "      <th></th>\n",
       "      <th>Marca</th>\n",
       "      <th>Modelo</th>\n",
       "      <th>Año</th>\n",
       "      <th>Kilómetros</th>\n",
       "      <th>Combustible</th>\n",
       "      <th>Cilindrada</th>\n",
       "      <th>Potencia (cv)</th>\n",
       "      <th>Transmisión</th>\n",
       "      <th>Consumo l/100</th>\n",
       "      <th>Precio</th>\n",
       "    </tr>\n",
       "  </thead>\n",
       "  <tbody>\n",
       "    <tr>\n",
       "      <th>0</th>\n",
       "      <td>Mitsubishi</td>\n",
       "      <td>ASX</td>\n",
       "      <td>2019.0</td>\n",
       "      <td>47413.0</td>\n",
       "      <td>Gasolina</td>\n",
       "      <td>1600.0</td>\n",
       "      <td>117.0</td>\n",
       "      <td>Manual</td>\n",
       "      <td>6.6</td>\n",
       "      <td>18990.0</td>\n",
       "    </tr>\n",
       "    <tr>\n",
       "      <th>1</th>\n",
       "      <td>Mercedes</td>\n",
       "      <td>B</td>\n",
       "      <td>2019.0</td>\n",
       "      <td>40800.0</td>\n",
       "      <td>Diésel</td>\n",
       "      <td>2100.0</td>\n",
       "      <td>136.0</td>\n",
       "      <td>Automática</td>\n",
       "      <td>5.3</td>\n",
       "      <td>21990.0</td>\n",
       "    </tr>\n",
       "    <tr>\n",
       "      <th>2</th>\n",
       "      <td>Renault</td>\n",
       "      <td>Captur</td>\n",
       "      <td>2019.0</td>\n",
       "      <td>62122.0</td>\n",
       "      <td>Gasolina</td>\n",
       "      <td>900.0</td>\n",
       "      <td>90.0</td>\n",
       "      <td>Manual</td>\n",
       "      <td>5.4</td>\n",
       "      <td>12990.0</td>\n",
       "    </tr>\n",
       "    <tr>\n",
       "      <th>3</th>\n",
       "      <td>SEAT</td>\n",
       "      <td>Leon</td>\n",
       "      <td>2022.0</td>\n",
       "      <td>5338.0</td>\n",
       "      <td>Gasolina</td>\n",
       "      <td>1500.0</td>\n",
       "      <td>150.0</td>\n",
       "      <td>Manual</td>\n",
       "      <td>5.7</td>\n",
       "      <td>20490.0</td>\n",
       "    </tr>\n",
       "    <tr>\n",
       "      <th>4</th>\n",
       "      <td>Peugeot</td>\n",
       "      <td>2008</td>\n",
       "      <td>2021.0</td>\n",
       "      <td>58885.0</td>\n",
       "      <td>Diésel</td>\n",
       "      <td>1500.0</td>\n",
       "      <td>110.0</td>\n",
       "      <td>Manual</td>\n",
       "      <td>3.6</td>\n",
       "      <td>14490.0</td>\n",
       "    </tr>\n",
       "  </tbody>\n",
       "</table>\n",
       "</div>"
      ],
      "text/plain": [
       "        Marca  Modelo     Año  Kilómetros Combustible  Cilindrada   \n",
       "0  Mitsubishi     ASX  2019.0     47413.0    Gasolina      1600.0  \\\n",
       "1    Mercedes       B  2019.0     40800.0      Diésel      2100.0   \n",
       "2     Renault  Captur  2019.0     62122.0    Gasolina       900.0   \n",
       "3        SEAT    Leon  2022.0      5338.0    Gasolina      1500.0   \n",
       "4     Peugeot    2008  2021.0     58885.0      Diésel      1500.0   \n",
       "\n",
       "   Potencia (cv) Transmisión  Consumo l/100   Precio  \n",
       "0          117.0      Manual            6.6  18990.0  \n",
       "1          136.0  Automática            5.3  21990.0  \n",
       "2           90.0      Manual            5.4  12990.0  \n",
       "3          150.0      Manual            5.7  20490.0  \n",
       "4          110.0      Manual            3.6  14490.0  "
      ]
     },
     "execution_count": 15,
     "metadata": {},
     "output_type": "execute_result"
    }
   ],
   "source": [
    "df.head()"
   ]
  },
  {
   "cell_type": "code",
   "execution_count": 32,
   "metadata": {},
   "outputs": [
    {
     "data": {
      "text/html": [
       "<div>\n",
       "<style scoped>\n",
       "    .dataframe tbody tr th:only-of-type {\n",
       "        vertical-align: middle;\n",
       "    }\n",
       "\n",
       "    .dataframe tbody tr th {\n",
       "        vertical-align: top;\n",
       "    }\n",
       "\n",
       "    .dataframe thead th {\n",
       "        text-align: right;\n",
       "    }\n",
       "</style>\n",
       "<table border=\"1\" class=\"dataframe\">\n",
       "  <thead>\n",
       "    <tr style=\"text-align: right;\">\n",
       "      <th></th>\n",
       "      <th>Marca</th>\n",
       "      <th>Modelo</th>\n",
       "      <th>Año</th>\n",
       "      <th>Kilómetros</th>\n",
       "      <th>Combustible</th>\n",
       "      <th>Cilindrada</th>\n",
       "      <th>Potencia (cv)</th>\n",
       "      <th>Transmisión</th>\n",
       "      <th>Consumo l/100</th>\n",
       "      <th>Precio</th>\n",
       "    </tr>\n",
       "  </thead>\n",
       "  <tbody>\n",
       "    <tr>\n",
       "      <th>0</th>\n",
       "      <td>Peugeot</td>\n",
       "      <td>208</td>\n",
       "      <td>2015</td>\n",
       "      <td>72090</td>\n",
       "      <td>Gasolina</td>\n",
       "      <td>1200</td>\n",
       "      <td>110</td>\n",
       "      <td>Manual</td>\n",
       "      <td>4.5</td>\n",
       "      <td>9990</td>\n",
       "    </tr>\n",
       "    <tr>\n",
       "      <th>1</th>\n",
       "      <td>Peugeot</td>\n",
       "      <td>208</td>\n",
       "      <td>2015</td>\n",
       "      <td>72090</td>\n",
       "      <td>Gasolina</td>\n",
       "      <td>1200</td>\n",
       "      <td>110</td>\n",
       "      <td>Manual</td>\n",
       "      <td>4.5</td>\n",
       "      <td>9990</td>\n",
       "    </tr>\n",
       "    <tr>\n",
       "      <th>2</th>\n",
       "      <td>Peugeot</td>\n",
       "      <td>208</td>\n",
       "      <td>2015</td>\n",
       "      <td>72090</td>\n",
       "      <td>Gasolina</td>\n",
       "      <td>1200</td>\n",
       "      <td>110</td>\n",
       "      <td>Manual</td>\n",
       "      <td>4.5</td>\n",
       "      <td>9990</td>\n",
       "    </tr>\n",
       "    <tr>\n",
       "      <th>3</th>\n",
       "      <td>Volkswagen</td>\n",
       "      <td>Touran</td>\n",
       "      <td>2017</td>\n",
       "      <td>116801</td>\n",
       "      <td>Diésel</td>\n",
       "      <td>1600</td>\n",
       "      <td>115</td>\n",
       "      <td>Manual</td>\n",
       "      <td>4.4</td>\n",
       "      <td>14990</td>\n",
       "    </tr>\n",
       "    <tr>\n",
       "      <th>4</th>\n",
       "      <td>Volkswagen</td>\n",
       "      <td>Golf</td>\n",
       "      <td>2014</td>\n",
       "      <td>104198</td>\n",
       "      <td>Diésel</td>\n",
       "      <td>2000</td>\n",
       "      <td>184</td>\n",
       "      <td>Automática</td>\n",
       "      <td>4.5</td>\n",
       "      <td>16190</td>\n",
       "    </tr>\n",
       "  </tbody>\n",
       "</table>\n",
       "</div>"
      ],
      "text/plain": [
       "        Marca  Modelo   Año  Kilómetros Combustible  Cilindrada   \n",
       "0     Peugeot     208  2015       72090    Gasolina        1200  \\\n",
       "1     Peugeot     208  2015       72090    Gasolina        1200   \n",
       "2     Peugeot     208  2015       72090    Gasolina        1200   \n",
       "3  Volkswagen  Touran  2017      116801      Diésel        1600   \n",
       "4  Volkswagen    Golf  2014      104198      Diésel        2000   \n",
       "\n",
       "   Potencia (cv) Transmisión  Consumo l/100  Precio  \n",
       "0            110      Manual            4.5    9990  \n",
       "1            110      Manual            4.5    9990  \n",
       "2            110      Manual            4.5    9990  \n",
       "3            115      Manual            4.4   14990  \n",
       "4            184  Automática            4.5   16190  "
      ]
     },
     "execution_count": 32,
     "metadata": {},
     "output_type": "execute_result"
    }
   ],
   "source": [
    "df_2.head()"
   ]
  },
  {
   "cell_type": "code",
   "execution_count": 17,
   "metadata": {},
   "outputs": [
    {
     "name": "stdout",
     "output_type": "stream",
     "text": [
      "<class 'pandas.core.frame.DataFrame'>\n",
      "Index: 2485 entries, 0 to 2577\n",
      "Data columns (total 10 columns):\n",
      " #   Column         Non-Null Count  Dtype  \n",
      "---  ------         --------------  -----  \n",
      " 0   Marca          2485 non-null   object \n",
      " 1   Modelo         2485 non-null   object \n",
      " 2   Año            2485 non-null   float64\n",
      " 3   Kilómetros     2485 non-null   float64\n",
      " 4   Combustible    2485 non-null   object \n",
      " 5   Cilindrada     2485 non-null   float64\n",
      " 6   Potencia (cv)  2485 non-null   float64\n",
      " 7   Transmisión    2485 non-null   object \n",
      " 8   Consumo l/100  2485 non-null   float64\n",
      " 9   Precio         2485 non-null   float64\n",
      "dtypes: float64(6), object(4)\n",
      "memory usage: 213.6+ KB\n"
     ]
    }
   ],
   "source": [
    "df.info()"
   ]
  },
  {
   "cell_type": "code",
   "execution_count": 33,
   "metadata": {},
   "outputs": [
    {
     "name": "stdout",
     "output_type": "stream",
     "text": [
      "<class 'pandas.core.frame.DataFrame'>\n",
      "Index: 2323 entries, 0 to 2332\n",
      "Data columns (total 10 columns):\n",
      " #   Column         Non-Null Count  Dtype  \n",
      "---  ------         --------------  -----  \n",
      " 0   Marca          2323 non-null   object \n",
      " 1   Modelo         2323 non-null   object \n",
      " 2   Año            2323 non-null   int64  \n",
      " 3   Kilómetros     2323 non-null   int64  \n",
      " 4   Combustible    2323 non-null   object \n",
      " 5   Cilindrada     2323 non-null   int64  \n",
      " 6   Potencia (cv)  2323 non-null   int64  \n",
      " 7   Transmisión    2323 non-null   object \n",
      " 8   Consumo l/100  2323 non-null   float64\n",
      " 9   Precio         2323 non-null   int64  \n",
      "dtypes: float64(1), int64(5), object(4)\n",
      "memory usage: 199.6+ KB\n"
     ]
    }
   ],
   "source": [
    "df_2.info()"
   ]
  },
  {
   "attachments": {},
   "cell_type": "markdown",
   "metadata": {},
   "source": [
    "<h4> Cambiamos los 'dtypes' de las columnas en 'df' para que coincidan, nos interesa el formato del segundo dataframe."
   ]
  },
  {
   "cell_type": "code",
   "execution_count": 24,
   "metadata": {},
   "outputs": [],
   "source": [
    "df['Año'] = df['Año'].astype('Int64')\n",
    "df['Kilómetros'] = df['Kilómetros'].astype('Int64')\n",
    "df['Cilindrada'] = df['Cilindrada'].astype('Int64')\n",
    "df['Potencia (cv)'] = df['Potencia (cv)'].astype('Int64')\n",
    "df['Precio'] = df['Precio'].astype('Int64')"
   ]
  },
  {
   "cell_type": "code",
   "execution_count": 25,
   "metadata": {},
   "outputs": [
    {
     "name": "stdout",
     "output_type": "stream",
     "text": [
      "<class 'pandas.core.frame.DataFrame'>\n",
      "Index: 2485 entries, 0 to 2577\n",
      "Data columns (total 10 columns):\n",
      " #   Column         Non-Null Count  Dtype  \n",
      "---  ------         --------------  -----  \n",
      " 0   Marca          2485 non-null   object \n",
      " 1   Modelo         2485 non-null   object \n",
      " 2   Año            2485 non-null   Int64  \n",
      " 3   Kilómetros     2485 non-null   Int64  \n",
      " 4   Combustible    2485 non-null   object \n",
      " 5   Cilindrada     2485 non-null   Int64  \n",
      " 6   Potencia (cv)  2485 non-null   Int64  \n",
      " 7   Transmisión    2485 non-null   object \n",
      " 8   Consumo l/100  2485 non-null   float64\n",
      " 9   Precio         2485 non-null   Int64  \n",
      "dtypes: Int64(5), float64(1), object(4)\n",
      "memory usage: 225.7+ KB\n"
     ]
    }
   ],
   "source": [
    "df.info()"
   ]
  },
  {
   "attachments": {},
   "cell_type": "markdown",
   "metadata": {},
   "source": [
    "<h4> Concatenamos los dos conjuntos en uno solo y exploramos sus columnas:"
   ]
  },
  {
   "cell_type": "code",
   "execution_count": 80,
   "metadata": {},
   "outputs": [],
   "source": [
    "data = pd.concat([df, df_2], ignore_index= True)"
   ]
  },
  {
   "cell_type": "code",
   "execution_count": 81,
   "metadata": {},
   "outputs": [
    {
     "name": "stdout",
     "output_type": "stream",
     "text": [
      "<class 'pandas.core.frame.DataFrame'>\n",
      "RangeIndex: 4808 entries, 0 to 4807\n",
      "Data columns (total 10 columns):\n",
      " #   Column         Non-Null Count  Dtype  \n",
      "---  ------         --------------  -----  \n",
      " 0   Marca          4808 non-null   object \n",
      " 1   Modelo         4808 non-null   object \n",
      " 2   Año            4808 non-null   Int64  \n",
      " 3   Kilómetros     4808 non-null   Int64  \n",
      " 4   Combustible    4808 non-null   object \n",
      " 5   Cilindrada     4808 non-null   Int64  \n",
      " 6   Potencia (cv)  4808 non-null   Int64  \n",
      " 7   Transmisión    4808 non-null   object \n",
      " 8   Consumo l/100  4808 non-null   float64\n",
      " 9   Precio         4808 non-null   Int64  \n",
      "dtypes: Int64(5), float64(1), object(4)\n",
      "memory usage: 399.2+ KB\n"
     ]
    }
   ],
   "source": [
    "data.info()"
   ]
  },
  {
   "cell_type": "code",
   "execution_count": 82,
   "metadata": {},
   "outputs": [
    {
     "data": {
      "text/plain": [
       "array(['Mitsubishi', 'Mercedes', 'Renault', 'SEAT', 'Peugeot', 'Hyundai',\n",
       "       'Kia', 'Volkswagen', 'Fiat', 'Ford', 'Dacia', 'Toyota', 'BMW',\n",
       "       'Alfa', 'Citroen', 'Jeep', 'Nissan', 'Opel', 'Audi', 'Mazda', 'DS',\n",
       "       'Lexus', 'Volvo', 'Land', 'Mini', 'Skoda', 'Cupra', 'Suzuki',\n",
       "       'Honda', 'Ssangyong', 'Smart', 'Infiniti', 'MG', 'Jaguar',\n",
       "       'Ligier', 'Abarth', 'Chevrolet', 'Subaru', 'Porsche', 'Chrysler',\n",
       "       'Iveco', 'Lancia', 'Maserati'], dtype=object)"
      ]
     },
     "execution_count": 82,
     "metadata": {},
     "output_type": "execute_result"
    }
   ],
   "source": [
    "data['Marca'].unique()"
   ]
  },
  {
   "attachments": {},
   "cell_type": "markdown",
   "metadata": {},
   "source": [
    "<h4> Investigamos en las marcas desconocidas, luego decidimos si eliminarlas"
   ]
  },
  {
   "cell_type": "code",
   "execution_count": 83,
   "metadata": {},
   "outputs": [
    {
     "data": {
      "text/html": [
       "<div>\n",
       "<style scoped>\n",
       "    .dataframe tbody tr th:only-of-type {\n",
       "        vertical-align: middle;\n",
       "    }\n",
       "\n",
       "    .dataframe tbody tr th {\n",
       "        vertical-align: top;\n",
       "    }\n",
       "\n",
       "    .dataframe thead th {\n",
       "        text-align: right;\n",
       "    }\n",
       "</style>\n",
       "<table border=\"1\" class=\"dataframe\">\n",
       "  <thead>\n",
       "    <tr style=\"text-align: right;\">\n",
       "      <th></th>\n",
       "      <th>Marca</th>\n",
       "      <th>Modelo</th>\n",
       "      <th>Año</th>\n",
       "      <th>Kilómetros</th>\n",
       "      <th>Combustible</th>\n",
       "      <th>Cilindrada</th>\n",
       "      <th>Potencia (cv)</th>\n",
       "      <th>Transmisión</th>\n",
       "      <th>Consumo l/100</th>\n",
       "      <th>Precio</th>\n",
       "    </tr>\n",
       "  </thead>\n",
       "  <tbody>\n",
       "    <tr>\n",
       "      <th>715</th>\n",
       "      <td>Ligier</td>\n",
       "      <td>M.GO</td>\n",
       "      <td>2021</td>\n",
       "      <td>2500</td>\n",
       "      <td>Diésel</td>\n",
       "      <td>500</td>\n",
       "      <td>10</td>\n",
       "      <td>Automática</td>\n",
       "      <td>7.4</td>\n",
       "      <td>8990</td>\n",
       "    </tr>\n",
       "  </tbody>\n",
       "</table>\n",
       "</div>"
      ],
      "text/plain": [
       "      Marca Modelo   Año  Kilómetros Combustible  Cilindrada  Potencia (cv)   \n",
       "715  Ligier   M.GO  2021        2500      Diésel         500             10  \\\n",
       "\n",
       "    Transmisión  Consumo l/100  Precio  \n",
       "715  Automática            7.4    8990  "
      ]
     },
     "execution_count": 83,
     "metadata": {},
     "output_type": "execute_result"
    }
   ],
   "source": [
    "data[data['Marca']== 'Ligier']"
   ]
  },
  {
   "cell_type": "code",
   "execution_count": 84,
   "metadata": {},
   "outputs": [
    {
     "data": {
      "text/html": [
       "<div>\n",
       "<style scoped>\n",
       "    .dataframe tbody tr th:only-of-type {\n",
       "        vertical-align: middle;\n",
       "    }\n",
       "\n",
       "    .dataframe tbody tr th {\n",
       "        vertical-align: top;\n",
       "    }\n",
       "\n",
       "    .dataframe thead th {\n",
       "        text-align: right;\n",
       "    }\n",
       "</style>\n",
       "<table border=\"1\" class=\"dataframe\">\n",
       "  <thead>\n",
       "    <tr style=\"text-align: right;\">\n",
       "      <th></th>\n",
       "      <th>Marca</th>\n",
       "      <th>Modelo</th>\n",
       "      <th>Año</th>\n",
       "      <th>Kilómetros</th>\n",
       "      <th>Combustible</th>\n",
       "      <th>Cilindrada</th>\n",
       "      <th>Potencia (cv)</th>\n",
       "      <th>Transmisión</th>\n",
       "      <th>Consumo l/100</th>\n",
       "      <th>Precio</th>\n",
       "    </tr>\n",
       "  </thead>\n",
       "  <tbody>\n",
       "    <tr>\n",
       "      <th>3896</th>\n",
       "      <td>Iveco</td>\n",
       "      <td>Daily</td>\n",
       "      <td>2017</td>\n",
       "      <td>113456</td>\n",
       "      <td>Diésel</td>\n",
       "      <td>2300</td>\n",
       "      <td>156</td>\n",
       "      <td>Manual</td>\n",
       "      <td>10.5</td>\n",
       "      <td>19990</td>\n",
       "    </tr>\n",
       "  </tbody>\n",
       "</table>\n",
       "</div>"
      ],
      "text/plain": [
       "      Marca Modelo   Año  Kilómetros Combustible  Cilindrada  Potencia (cv)   \n",
       "3896  Iveco  Daily  2017      113456      Diésel        2300            156  \\\n",
       "\n",
       "     Transmisión  Consumo l/100  Precio  \n",
       "3896      Manual           10.5   19990  "
      ]
     },
     "execution_count": 84,
     "metadata": {},
     "output_type": "execute_result"
    }
   ],
   "source": [
    "data[data['Marca']== 'Iveco']"
   ]
  },
  {
   "cell_type": "code",
   "execution_count": 85,
   "metadata": {},
   "outputs": [
    {
     "data": {
      "text/html": [
       "<div>\n",
       "<style scoped>\n",
       "    .dataframe tbody tr th:only-of-type {\n",
       "        vertical-align: middle;\n",
       "    }\n",
       "\n",
       "    .dataframe tbody tr th {\n",
       "        vertical-align: top;\n",
       "    }\n",
       "\n",
       "    .dataframe thead th {\n",
       "        text-align: right;\n",
       "    }\n",
       "</style>\n",
       "<table border=\"1\" class=\"dataframe\">\n",
       "  <thead>\n",
       "    <tr style=\"text-align: right;\">\n",
       "      <th></th>\n",
       "      <th>Marca</th>\n",
       "      <th>Modelo</th>\n",
       "      <th>Año</th>\n",
       "      <th>Kilómetros</th>\n",
       "      <th>Combustible</th>\n",
       "      <th>Cilindrada</th>\n",
       "      <th>Potencia (cv)</th>\n",
       "      <th>Transmisión</th>\n",
       "      <th>Consumo l/100</th>\n",
       "      <th>Precio</th>\n",
       "    </tr>\n",
       "  </thead>\n",
       "  <tbody>\n",
       "    <tr>\n",
       "      <th>4358</th>\n",
       "      <td>Lancia</td>\n",
       "      <td>Ypsilon</td>\n",
       "      <td>2016</td>\n",
       "      <td>32000</td>\n",
       "      <td>Gasolina</td>\n",
       "      <td>1200</td>\n",
       "      <td>69</td>\n",
       "      <td>Manual</td>\n",
       "      <td>5.2</td>\n",
       "      <td>9990</td>\n",
       "    </tr>\n",
       "    <tr>\n",
       "      <th>4699</th>\n",
       "      <td>Lancia</td>\n",
       "      <td>Ypsilon</td>\n",
       "      <td>2017</td>\n",
       "      <td>29890</td>\n",
       "      <td>Gasolina</td>\n",
       "      <td>1200</td>\n",
       "      <td>69</td>\n",
       "      <td>Manual</td>\n",
       "      <td>5.2</td>\n",
       "      <td>7290</td>\n",
       "    </tr>\n",
       "  </tbody>\n",
       "</table>\n",
       "</div>"
      ],
      "text/plain": [
       "       Marca   Modelo   Año  Kilómetros Combustible  Cilindrada   \n",
       "4358  Lancia  Ypsilon  2016       32000    Gasolina        1200  \\\n",
       "4699  Lancia  Ypsilon  2017       29890    Gasolina        1200   \n",
       "\n",
       "      Potencia (cv) Transmisión  Consumo l/100  Precio  \n",
       "4358             69      Manual            5.2    9990  \n",
       "4699             69      Manual            5.2    7290  "
      ]
     },
     "execution_count": 85,
     "metadata": {},
     "output_type": "execute_result"
    }
   ],
   "source": [
    "data[data['Marca']== 'Lancia']"
   ]
  },
  {
   "cell_type": "code",
   "execution_count": 86,
   "metadata": {},
   "outputs": [],
   "source": [
    "data = data.drop(index=[715,3896,4358,4699])"
   ]
  },
  {
   "cell_type": "code",
   "execution_count": 87,
   "metadata": {},
   "outputs": [
    {
     "data": {
      "text/plain": [
       "<IntegerArray>\n",
       "[2019, 2022, 2021, 2020, 2023, 2015, 2017, 2014, 2013, 2016, 2012, 2011, 2009,\n",
       " 2010]\n",
       "Length: 14, dtype: Int64"
      ]
     },
     "execution_count": 87,
     "metadata": {},
     "output_type": "execute_result"
    }
   ],
   "source": [
    "data['Año'].unique()"
   ]
  },
  {
   "cell_type": "code",
   "execution_count": 88,
   "metadata": {},
   "outputs": [
    {
     "data": {
      "text/plain": [
       "array(['Gasolina', 'Diésel', 'Híbrido', 'GLP'], dtype=object)"
      ]
     },
     "execution_count": 88,
     "metadata": {},
     "output_type": "execute_result"
    }
   ],
   "source": [
    "data['Combustible'].unique()"
   ]
  },
  {
   "attachments": {},
   "cell_type": "markdown",
   "metadata": {},
   "source": [
    "<h4> Aplicamos algunas máscaras para ver si existe algún valor fuera de rango (outlier):"
   ]
  },
  {
   "cell_type": "code",
   "execution_count": 91,
   "metadata": {},
   "outputs": [
    {
     "data": {
      "text/html": [
       "<div>\n",
       "<style scoped>\n",
       "    .dataframe tbody tr th:only-of-type {\n",
       "        vertical-align: middle;\n",
       "    }\n",
       "\n",
       "    .dataframe tbody tr th {\n",
       "        vertical-align: top;\n",
       "    }\n",
       "\n",
       "    .dataframe thead th {\n",
       "        text-align: right;\n",
       "    }\n",
       "</style>\n",
       "<table border=\"1\" class=\"dataframe\">\n",
       "  <thead>\n",
       "    <tr style=\"text-align: right;\">\n",
       "      <th></th>\n",
       "      <th>Marca</th>\n",
       "      <th>Modelo</th>\n",
       "      <th>Año</th>\n",
       "      <th>Kilómetros</th>\n",
       "      <th>Combustible</th>\n",
       "      <th>Cilindrada</th>\n",
       "      <th>Potencia (cv)</th>\n",
       "      <th>Transmisión</th>\n",
       "      <th>Consumo l/100</th>\n",
       "      <th>Precio</th>\n",
       "    </tr>\n",
       "  </thead>\n",
       "  <tbody>\n",
       "    <tr>\n",
       "      <th>2624</th>\n",
       "      <td>SEAT</td>\n",
       "      <td>Mii</td>\n",
       "      <td>2017</td>\n",
       "      <td>39990</td>\n",
       "      <td>Gasolina</td>\n",
       "      <td>1000</td>\n",
       "      <td>60</td>\n",
       "      <td>Manual</td>\n",
       "      <td>4.4</td>\n",
       "      <td>8990</td>\n",
       "    </tr>\n",
       "    <tr>\n",
       "      <th>2924</th>\n",
       "      <td>Volkswagen</td>\n",
       "      <td>Polo</td>\n",
       "      <td>2016</td>\n",
       "      <td>99996</td>\n",
       "      <td>Gasolina</td>\n",
       "      <td>1000</td>\n",
       "      <td>60</td>\n",
       "      <td>Manual</td>\n",
       "      <td>4.7</td>\n",
       "      <td>10990</td>\n",
       "    </tr>\n",
       "    <tr>\n",
       "      <th>3348</th>\n",
       "      <td>SEAT</td>\n",
       "      <td>Mii</td>\n",
       "      <td>2017</td>\n",
       "      <td>7494</td>\n",
       "      <td>Gasolina</td>\n",
       "      <td>1000</td>\n",
       "      <td>60</td>\n",
       "      <td>Manual</td>\n",
       "      <td>4.4</td>\n",
       "      <td>8990</td>\n",
       "    </tr>\n",
       "    <tr>\n",
       "      <th>3841</th>\n",
       "      <td>Volkswagen</td>\n",
       "      <td>Polo</td>\n",
       "      <td>2015</td>\n",
       "      <td>54248</td>\n",
       "      <td>Gasolina</td>\n",
       "      <td>1000</td>\n",
       "      <td>60</td>\n",
       "      <td>Manual</td>\n",
       "      <td>4.7</td>\n",
       "      <td>9190</td>\n",
       "    </tr>\n",
       "    <tr>\n",
       "      <th>4728</th>\n",
       "      <td>Mercedes</td>\n",
       "      <td>C</td>\n",
       "      <td>2017</td>\n",
       "      <td>69983</td>\n",
       "      <td>Gasolina</td>\n",
       "      <td>4000</td>\n",
       "      <td>510</td>\n",
       "      <td>Automática</td>\n",
       "      <td>8.2</td>\n",
       "      <td>49990</td>\n",
       "    </tr>\n",
       "  </tbody>\n",
       "</table>\n",
       "</div>"
      ],
      "text/plain": [
       "           Marca Modelo   Año  Kilómetros Combustible  Cilindrada   \n",
       "2624        SEAT    Mii  2017       39990    Gasolina        1000  \\\n",
       "2924  Volkswagen   Polo  2016       99996    Gasolina        1000   \n",
       "3348        SEAT    Mii  2017        7494    Gasolina        1000   \n",
       "3841  Volkswagen   Polo  2015       54248    Gasolina        1000   \n",
       "4728    Mercedes      C  2017       69983    Gasolina        4000   \n",
       "\n",
       "      Potencia (cv) Transmisión  Consumo l/100  Precio  \n",
       "2624             60      Manual            4.4    8990  \n",
       "2924             60      Manual            4.7   10990  \n",
       "3348             60      Manual            4.4    8990  \n",
       "3841             60      Manual            4.7    9190  \n",
       "4728            510  Automática            8.2   49990  "
      ]
     },
     "execution_count": 91,
     "metadata": {},
     "output_type": "execute_result"
    }
   ],
   "source": [
    "data[(data['Potencia (cv)'] <= 60) | (data['Potencia (cv)'] >= 500)]"
   ]
  },
  {
   "cell_type": "code",
   "execution_count": 92,
   "metadata": {},
   "outputs": [
    {
     "data": {
      "text/html": [
       "<div>\n",
       "<style scoped>\n",
       "    .dataframe tbody tr th:only-of-type {\n",
       "        vertical-align: middle;\n",
       "    }\n",
       "\n",
       "    .dataframe tbody tr th {\n",
       "        vertical-align: top;\n",
       "    }\n",
       "\n",
       "    .dataframe thead th {\n",
       "        text-align: right;\n",
       "    }\n",
       "</style>\n",
       "<table border=\"1\" class=\"dataframe\">\n",
       "  <thead>\n",
       "    <tr style=\"text-align: right;\">\n",
       "      <th></th>\n",
       "      <th>Marca</th>\n",
       "      <th>Modelo</th>\n",
       "      <th>Año</th>\n",
       "      <th>Kilómetros</th>\n",
       "      <th>Combustible</th>\n",
       "      <th>Cilindrada</th>\n",
       "      <th>Potencia (cv)</th>\n",
       "      <th>Transmisión</th>\n",
       "      <th>Consumo l/100</th>\n",
       "      <th>Precio</th>\n",
       "    </tr>\n",
       "  </thead>\n",
       "  <tbody>\n",
       "    <tr>\n",
       "      <th>714</th>\n",
       "      <td>BMW</td>\n",
       "      <td>1</td>\n",
       "      <td>2021</td>\n",
       "      <td>36000</td>\n",
       "      <td>Gasolina</td>\n",
       "      <td>15000</td>\n",
       "      <td>136</td>\n",
       "      <td>Manual</td>\n",
       "      <td>4.7</td>\n",
       "      <td>23490</td>\n",
       "    </tr>\n",
       "    <tr>\n",
       "      <th>3128</th>\n",
       "      <td>Ford</td>\n",
       "      <td>Mustang</td>\n",
       "      <td>2017</td>\n",
       "      <td>33335</td>\n",
       "      <td>Gasolina</td>\n",
       "      <td>5000</td>\n",
       "      <td>418</td>\n",
       "      <td>Automática</td>\n",
       "      <td>12.0</td>\n",
       "      <td>28290</td>\n",
       "    </tr>\n",
       "  </tbody>\n",
       "</table>\n",
       "</div>"
      ],
      "text/plain": [
       "     Marca   Modelo   Año  Kilómetros Combustible  Cilindrada  Potencia (cv)   \n",
       "714    BMW        1  2021       36000    Gasolina       15000            136  \\\n",
       "3128  Ford  Mustang  2017       33335    Gasolina        5000            418   \n",
       "\n",
       "     Transmisión  Consumo l/100  Precio  \n",
       "714       Manual            4.7   23490  \n",
       "3128  Automática           12.0   28290  "
      ]
     },
     "execution_count": 92,
     "metadata": {},
     "output_type": "execute_result"
    }
   ],
   "source": [
    "data[(data['Cilindrada'] <= 800) | (data['Cilindrada'] >= 5000)]"
   ]
  },
  {
   "attachments": {},
   "cell_type": "markdown",
   "metadata": {},
   "source": [
    "<h4> La fila 734 tiene un outlier, sin duda un valor falso, exploramos el dato un poco más:"
   ]
  },
  {
   "cell_type": "code",
   "execution_count": 93,
   "metadata": {},
   "outputs": [
    {
     "data": {
      "text/plain": [
       "15000"
      ]
     },
     "execution_count": 93,
     "metadata": {},
     "output_type": "execute_result"
    }
   ],
   "source": [
    "data.loc[714, 'Cilindrada']"
   ]
  },
  {
   "attachments": {},
   "cell_type": "markdown",
   "metadata": {},
   "source": [
    "<h4> Comprobamos que el valor que corresponde a esa celda es de 2000 para dicho modelo y lo modificamos:"
   ]
  },
  {
   "cell_type": "code",
   "execution_count": 94,
   "metadata": {},
   "outputs": [
    {
     "data": {
      "text/html": [
       "<div>\n",
       "<style scoped>\n",
       "    .dataframe tbody tr th:only-of-type {\n",
       "        vertical-align: middle;\n",
       "    }\n",
       "\n",
       "    .dataframe tbody tr th {\n",
       "        vertical-align: top;\n",
       "    }\n",
       "\n",
       "    .dataframe thead th {\n",
       "        text-align: right;\n",
       "    }\n",
       "</style>\n",
       "<table border=\"1\" class=\"dataframe\">\n",
       "  <thead>\n",
       "    <tr style=\"text-align: right;\">\n",
       "      <th></th>\n",
       "      <th>Marca</th>\n",
       "      <th>Modelo</th>\n",
       "      <th>Año</th>\n",
       "      <th>Kilómetros</th>\n",
       "      <th>Combustible</th>\n",
       "      <th>Cilindrada</th>\n",
       "      <th>Potencia (cv)</th>\n",
       "      <th>Transmisión</th>\n",
       "      <th>Consumo l/100</th>\n",
       "      <th>Precio</th>\n",
       "    </tr>\n",
       "  </thead>\n",
       "  <tbody>\n",
       "    <tr>\n",
       "      <th>25</th>\n",
       "      <td>BMW</td>\n",
       "      <td>X4</td>\n",
       "      <td>2019</td>\n",
       "      <td>34452</td>\n",
       "      <td>Diésel</td>\n",
       "      <td>2000</td>\n",
       "      <td>190</td>\n",
       "      <td>Automática</td>\n",
       "      <td>5.4</td>\n",
       "      <td>36990</td>\n",
       "    </tr>\n",
       "    <tr>\n",
       "      <th>48</th>\n",
       "      <td>BMW</td>\n",
       "      <td>1</td>\n",
       "      <td>2020</td>\n",
       "      <td>44990</td>\n",
       "      <td>Diésel</td>\n",
       "      <td>2000</td>\n",
       "      <td>150</td>\n",
       "      <td>Automática</td>\n",
       "      <td>4.7</td>\n",
       "      <td>27790</td>\n",
       "    </tr>\n",
       "    <tr>\n",
       "      <th>60</th>\n",
       "      <td>BMW</td>\n",
       "      <td>X2</td>\n",
       "      <td>2019</td>\n",
       "      <td>50405</td>\n",
       "      <td>Diésel</td>\n",
       "      <td>1500</td>\n",
       "      <td>116</td>\n",
       "      <td>Manual</td>\n",
       "      <td>4.3</td>\n",
       "      <td>23990</td>\n",
       "    </tr>\n",
       "    <tr>\n",
       "      <th>192</th>\n",
       "      <td>BMW</td>\n",
       "      <td>1</td>\n",
       "      <td>2022</td>\n",
       "      <td>6000</td>\n",
       "      <td>Diésel</td>\n",
       "      <td>2000</td>\n",
       "      <td>150</td>\n",
       "      <td>Manual</td>\n",
       "      <td>4.7</td>\n",
       "      <td>29490</td>\n",
       "    </tr>\n",
       "    <tr>\n",
       "      <th>253</th>\n",
       "      <td>BMW</td>\n",
       "      <td>1</td>\n",
       "      <td>2022</td>\n",
       "      <td>11440</td>\n",
       "      <td>Diésel</td>\n",
       "      <td>2000</td>\n",
       "      <td>150</td>\n",
       "      <td>Manual</td>\n",
       "      <td>4.7</td>\n",
       "      <td>28990</td>\n",
       "    </tr>\n",
       "    <tr>\n",
       "      <th>...</th>\n",
       "      <td>...</td>\n",
       "      <td>...</td>\n",
       "      <td>...</td>\n",
       "      <td>...</td>\n",
       "      <td>...</td>\n",
       "      <td>...</td>\n",
       "      <td>...</td>\n",
       "      <td>...</td>\n",
       "      <td>...</td>\n",
       "      <td>...</td>\n",
       "    </tr>\n",
       "    <tr>\n",
       "      <th>4710</th>\n",
       "      <td>BMW</td>\n",
       "      <td>X5</td>\n",
       "      <td>2017</td>\n",
       "      <td>193045</td>\n",
       "      <td>Diésel</td>\n",
       "      <td>2000</td>\n",
       "      <td>231</td>\n",
       "      <td>Automática</td>\n",
       "      <td>5.3</td>\n",
       "      <td>22990</td>\n",
       "    </tr>\n",
       "    <tr>\n",
       "      <th>4732</th>\n",
       "      <td>BMW</td>\n",
       "      <td>1</td>\n",
       "      <td>2016</td>\n",
       "      <td>127000</td>\n",
       "      <td>Diésel</td>\n",
       "      <td>2000</td>\n",
       "      <td>190</td>\n",
       "      <td>Automática</td>\n",
       "      <td>4.1</td>\n",
       "      <td>21990</td>\n",
       "    </tr>\n",
       "    <tr>\n",
       "      <th>4752</th>\n",
       "      <td>BMW</td>\n",
       "      <td>4</td>\n",
       "      <td>2015</td>\n",
       "      <td>67000</td>\n",
       "      <td>Diésel</td>\n",
       "      <td>3000</td>\n",
       "      <td>313</td>\n",
       "      <td>Automática</td>\n",
       "      <td>5.4</td>\n",
       "      <td>24490</td>\n",
       "    </tr>\n",
       "    <tr>\n",
       "      <th>4797</th>\n",
       "      <td>BMW</td>\n",
       "      <td>3</td>\n",
       "      <td>2017</td>\n",
       "      <td>66793</td>\n",
       "      <td>Diésel</td>\n",
       "      <td>2000</td>\n",
       "      <td>150</td>\n",
       "      <td>Automática</td>\n",
       "      <td>4.0</td>\n",
       "      <td>16890</td>\n",
       "    </tr>\n",
       "    <tr>\n",
       "      <th>4801</th>\n",
       "      <td>BMW</td>\n",
       "      <td>1</td>\n",
       "      <td>2014</td>\n",
       "      <td>60000</td>\n",
       "      <td>Diésel</td>\n",
       "      <td>2000</td>\n",
       "      <td>143</td>\n",
       "      <td>Automática</td>\n",
       "      <td>4.4</td>\n",
       "      <td>13090</td>\n",
       "    </tr>\n",
       "  </tbody>\n",
       "</table>\n",
       "<p>262 rows × 10 columns</p>\n",
       "</div>"
      ],
      "text/plain": [
       "     Marca Modelo   Año  Kilómetros Combustible  Cilindrada  Potencia (cv)   \n",
       "25     BMW     X4  2019       34452      Diésel        2000            190  \\\n",
       "48     BMW      1  2020       44990      Diésel        2000            150   \n",
       "60     BMW     X2  2019       50405      Diésel        1500            116   \n",
       "192    BMW      1  2022        6000      Diésel        2000            150   \n",
       "253    BMW      1  2022       11440      Diésel        2000            150   \n",
       "...    ...    ...   ...         ...         ...         ...            ...   \n",
       "4710   BMW     X5  2017      193045      Diésel        2000            231   \n",
       "4732   BMW      1  2016      127000      Diésel        2000            190   \n",
       "4752   BMW      4  2015       67000      Diésel        3000            313   \n",
       "4797   BMW      3  2017       66793      Diésel        2000            150   \n",
       "4801   BMW      1  2014       60000      Diésel        2000            143   \n",
       "\n",
       "     Transmisión  Consumo l/100  Precio  \n",
       "25    Automática            5.4   36990  \n",
       "48    Automática            4.7   27790  \n",
       "60        Manual            4.3   23990  \n",
       "192       Manual            4.7   29490  \n",
       "253       Manual            4.7   28990  \n",
       "...          ...            ...     ...  \n",
       "4710  Automática            5.3   22990  \n",
       "4732  Automática            4.1   21990  \n",
       "4752  Automática            5.4   24490  \n",
       "4797  Automática            4.0   16890  \n",
       "4801  Automática            4.4   13090  \n",
       "\n",
       "[262 rows x 10 columns]"
      ]
     },
     "execution_count": 94,
     "metadata": {},
     "output_type": "execute_result"
    }
   ],
   "source": [
    "data[data['Marca']== 'BMW']"
   ]
  },
  {
   "cell_type": "code",
   "execution_count": 95,
   "metadata": {},
   "outputs": [],
   "source": [
    "data.loc[714, 'Cilindrada'] = 2000"
   ]
  },
  {
   "cell_type": "code",
   "execution_count": 96,
   "metadata": {},
   "outputs": [
    {
     "data": {
      "text/html": [
       "<div>\n",
       "<style scoped>\n",
       "    .dataframe tbody tr th:only-of-type {\n",
       "        vertical-align: middle;\n",
       "    }\n",
       "\n",
       "    .dataframe tbody tr th {\n",
       "        vertical-align: top;\n",
       "    }\n",
       "\n",
       "    .dataframe thead th {\n",
       "        text-align: right;\n",
       "    }\n",
       "</style>\n",
       "<table border=\"1\" class=\"dataframe\">\n",
       "  <thead>\n",
       "    <tr style=\"text-align: right;\">\n",
       "      <th></th>\n",
       "      <th>Marca</th>\n",
       "      <th>Modelo</th>\n",
       "      <th>Año</th>\n",
       "      <th>Kilómetros</th>\n",
       "      <th>Combustible</th>\n",
       "      <th>Cilindrada</th>\n",
       "      <th>Potencia (cv)</th>\n",
       "      <th>Transmisión</th>\n",
       "      <th>Consumo l/100</th>\n",
       "      <th>Precio</th>\n",
       "    </tr>\n",
       "  </thead>\n",
       "  <tbody>\n",
       "    <tr>\n",
       "      <th>3128</th>\n",
       "      <td>Ford</td>\n",
       "      <td>Mustang</td>\n",
       "      <td>2017</td>\n",
       "      <td>33335</td>\n",
       "      <td>Gasolina</td>\n",
       "      <td>5000</td>\n",
       "      <td>418</td>\n",
       "      <td>Automática</td>\n",
       "      <td>12.0</td>\n",
       "      <td>28290</td>\n",
       "    </tr>\n",
       "  </tbody>\n",
       "</table>\n",
       "</div>"
      ],
      "text/plain": [
       "     Marca   Modelo   Año  Kilómetros Combustible  Cilindrada  Potencia (cv)   \n",
       "3128  Ford  Mustang  2017       33335    Gasolina        5000            418  \\\n",
       "\n",
       "     Transmisión  Consumo l/100  Precio  \n",
       "3128  Automática           12.0   28290  "
      ]
     },
     "execution_count": 96,
     "metadata": {},
     "output_type": "execute_result"
    }
   ],
   "source": [
    "data[(data['Cilindrada'] <= 800) | (data['Cilindrada'] >= 5000)]"
   ]
  },
  {
   "cell_type": "code",
   "execution_count": 97,
   "metadata": {},
   "outputs": [
    {
     "data": {
      "text/plain": [
       "array(['Manual', 'Automática'], dtype=object)"
      ]
     },
     "execution_count": 97,
     "metadata": {},
     "output_type": "execute_result"
    }
   ],
   "source": [
    "data['Transmisión'].unique()"
   ]
  },
  {
   "cell_type": "code",
   "execution_count": 98,
   "metadata": {},
   "outputs": [
    {
     "data": {
      "text/html": [
       "<div>\n",
       "<style scoped>\n",
       "    .dataframe tbody tr th:only-of-type {\n",
       "        vertical-align: middle;\n",
       "    }\n",
       "\n",
       "    .dataframe tbody tr th {\n",
       "        vertical-align: top;\n",
       "    }\n",
       "\n",
       "    .dataframe thead th {\n",
       "        text-align: right;\n",
       "    }\n",
       "</style>\n",
       "<table border=\"1\" class=\"dataframe\">\n",
       "  <thead>\n",
       "    <tr style=\"text-align: right;\">\n",
       "      <th></th>\n",
       "      <th>Marca</th>\n",
       "      <th>Modelo</th>\n",
       "      <th>Año</th>\n",
       "      <th>Kilómetros</th>\n",
       "      <th>Combustible</th>\n",
       "      <th>Cilindrada</th>\n",
       "      <th>Potencia (cv)</th>\n",
       "      <th>Transmisión</th>\n",
       "      <th>Consumo l/100</th>\n",
       "      <th>Precio</th>\n",
       "    </tr>\n",
       "  </thead>\n",
       "  <tbody>\n",
       "    <tr>\n",
       "      <th>55</th>\n",
       "      <td>Opel</td>\n",
       "      <td>Corsa</td>\n",
       "      <td>2020</td>\n",
       "      <td>26549</td>\n",
       "      <td>Diésel</td>\n",
       "      <td>1500</td>\n",
       "      <td>102</td>\n",
       "      <td>Manual</td>\n",
       "      <td>3.2</td>\n",
       "      <td>12990</td>\n",
       "    </tr>\n",
       "    <tr>\n",
       "      <th>63</th>\n",
       "      <td>Toyota</td>\n",
       "      <td>Corolla</td>\n",
       "      <td>2021</td>\n",
       "      <td>12369</td>\n",
       "      <td>Híbrido</td>\n",
       "      <td>1800</td>\n",
       "      <td>122</td>\n",
       "      <td>Automática</td>\n",
       "      <td>3.3</td>\n",
       "      <td>22990</td>\n",
       "    </tr>\n",
       "    <tr>\n",
       "      <th>100</th>\n",
       "      <td>Peugeot</td>\n",
       "      <td>308</td>\n",
       "      <td>2021</td>\n",
       "      <td>10000</td>\n",
       "      <td>Híbrido</td>\n",
       "      <td>1600</td>\n",
       "      <td>180</td>\n",
       "      <td>Automática</td>\n",
       "      <td>1.2</td>\n",
       "      <td>14990</td>\n",
       "    </tr>\n",
       "    <tr>\n",
       "      <th>130</th>\n",
       "      <td>Citroen</td>\n",
       "      <td>C3</td>\n",
       "      <td>2021</td>\n",
       "      <td>60100</td>\n",
       "      <td>Diésel</td>\n",
       "      <td>1500</td>\n",
       "      <td>102</td>\n",
       "      <td>Manual</td>\n",
       "      <td>3.2</td>\n",
       "      <td>12990</td>\n",
       "    </tr>\n",
       "    <tr>\n",
       "      <th>141</th>\n",
       "      <td>Mitsubishi</td>\n",
       "      <td>Cross</td>\n",
       "      <td>2021</td>\n",
       "      <td>62999</td>\n",
       "      <td>Híbrido</td>\n",
       "      <td>2400</td>\n",
       "      <td>188</td>\n",
       "      <td>Automática</td>\n",
       "      <td>2.0</td>\n",
       "      <td>17990</td>\n",
       "    </tr>\n",
       "    <tr>\n",
       "      <th>...</th>\n",
       "      <td>...</td>\n",
       "      <td>...</td>\n",
       "      <td>...</td>\n",
       "      <td>...</td>\n",
       "      <td>...</td>\n",
       "      <td>...</td>\n",
       "      <td>...</td>\n",
       "      <td>...</td>\n",
       "      <td>...</td>\n",
       "      <td>...</td>\n",
       "    </tr>\n",
       "    <tr>\n",
       "      <th>4584</th>\n",
       "      <td>Toyota</td>\n",
       "      <td>Yaris</td>\n",
       "      <td>2015</td>\n",
       "      <td>55582</td>\n",
       "      <td>Híbrido</td>\n",
       "      <td>1500</td>\n",
       "      <td>100</td>\n",
       "      <td>Automática</td>\n",
       "      <td>3.3</td>\n",
       "      <td>14490</td>\n",
       "    </tr>\n",
       "    <tr>\n",
       "      <th>4591</th>\n",
       "      <td>Opel</td>\n",
       "      <td>Corsa</td>\n",
       "      <td>2016</td>\n",
       "      <td>107820</td>\n",
       "      <td>Diésel</td>\n",
       "      <td>1200</td>\n",
       "      <td>95</td>\n",
       "      <td>Manual</td>\n",
       "      <td>3.3</td>\n",
       "      <td>6990</td>\n",
       "    </tr>\n",
       "    <tr>\n",
       "      <th>4608</th>\n",
       "      <td>Peugeot</td>\n",
       "      <td>308</td>\n",
       "      <td>2015</td>\n",
       "      <td>75171</td>\n",
       "      <td>Diésel</td>\n",
       "      <td>1600</td>\n",
       "      <td>120</td>\n",
       "      <td>Manual</td>\n",
       "      <td>3.1</td>\n",
       "      <td>9490</td>\n",
       "    </tr>\n",
       "    <tr>\n",
       "      <th>4687</th>\n",
       "      <td>Volkswagen</td>\n",
       "      <td>Golf</td>\n",
       "      <td>2015</td>\n",
       "      <td>135700</td>\n",
       "      <td>Diésel</td>\n",
       "      <td>1600</td>\n",
       "      <td>110</td>\n",
       "      <td>Manual</td>\n",
       "      <td>3.3</td>\n",
       "      <td>11720</td>\n",
       "    </tr>\n",
       "    <tr>\n",
       "      <th>4714</th>\n",
       "      <td>Nissan</td>\n",
       "      <td>Navara</td>\n",
       "      <td>2014</td>\n",
       "      <td>108804</td>\n",
       "      <td>Diésel</td>\n",
       "      <td>3000</td>\n",
       "      <td>231</td>\n",
       "      <td>Automática</td>\n",
       "      <td>9.5</td>\n",
       "      <td>18990</td>\n",
       "    </tr>\n",
       "  </tbody>\n",
       "</table>\n",
       "<p>93 rows × 10 columns</p>\n",
       "</div>"
      ],
      "text/plain": [
       "           Marca   Modelo   Año  Kilómetros Combustible  Cilindrada   \n",
       "55          Opel    Corsa  2020       26549      Diésel        1500  \\\n",
       "63        Toyota  Corolla  2021       12369     Híbrido        1800   \n",
       "100      Peugeot      308  2021       10000     Híbrido        1600   \n",
       "130      Citroen       C3  2021       60100      Diésel        1500   \n",
       "141   Mitsubishi    Cross  2021       62999     Híbrido        2400   \n",
       "...          ...      ...   ...         ...         ...         ...   \n",
       "4584      Toyota    Yaris  2015       55582     Híbrido        1500   \n",
       "4591        Opel    Corsa  2016      107820      Diésel        1200   \n",
       "4608     Peugeot      308  2015       75171      Diésel        1600   \n",
       "4687  Volkswagen     Golf  2015      135700      Diésel        1600   \n",
       "4714      Nissan   Navara  2014      108804      Diésel        3000   \n",
       "\n",
       "      Potencia (cv) Transmisión  Consumo l/100  Precio  \n",
       "55              102      Manual            3.2   12990  \n",
       "63              122  Automática            3.3   22990  \n",
       "100             180  Automática            1.2   14990  \n",
       "130             102      Manual            3.2   12990  \n",
       "141             188  Automática            2.0   17990  \n",
       "...             ...         ...            ...     ...  \n",
       "4584            100  Automática            3.3   14490  \n",
       "4591             95      Manual            3.3    6990  \n",
       "4608            120      Manual            3.1    9490  \n",
       "4687            110      Manual            3.3   11720  \n",
       "4714            231  Automática            9.5   18990  \n",
       "\n",
       "[93 rows x 10 columns]"
      ]
     },
     "execution_count": 98,
     "metadata": {},
     "output_type": "execute_result"
    }
   ],
   "source": [
    "data[(data['Consumo l/100'] < 3.4) | (data['Consumo l/100'] > 9.0)]"
   ]
  },
  {
   "attachments": {},
   "cell_type": "markdown",
   "metadata": {},
   "source": [
    "<h4> Jugando con las máscaras se ven algunas irregularidades entre los consumos, esto es debido a que la etiqueta 'híbrido' está compuesta de diferentes tipos de motores eléctricos auxiliares, lo que lleva a consumos discrepantes. Esto se podría arreglar especificando el tipo de motor híbrido (diversificando la etiqueta)."
   ]
  },
  {
   "attachments": {},
   "cell_type": "markdown",
   "metadata": {},
   "source": [
    "<h4> Llegados a este punto vale la pena guardar los datos completos antes de procesarlos para Machine Learning:"
   ]
  },
  {
   "cell_type": "code",
   "execution_count": 99,
   "metadata": {},
   "outputs": [],
   "source": [
    "data.to_json('../Data/processed/data.json')"
   ]
  },
  {
   "cell_type": "code",
   "execution_count": null,
   "metadata": {},
   "outputs": [],
   "source": []
  }
 ],
 "metadata": {
  "kernelspec": {
   "display_name": "MLproyect",
   "language": "python",
   "name": "python3"
  },
  "language_info": {
   "codemirror_mode": {
    "name": "ipython",
    "version": 3
   },
   "file_extension": ".py",
   "mimetype": "text/x-python",
   "name": "python",
   "nbconvert_exporter": "python",
   "pygments_lexer": "ipython3",
   "version": "3.9.16"
  },
  "orig_nbformat": 4
 },
 "nbformat": 4,
 "nbformat_minor": 2
}

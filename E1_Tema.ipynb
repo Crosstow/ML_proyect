{
 "cells": [
  {
   "cell_type": "markdown",
   "metadata": {},
   "source": [
    "# Primera entrega ML"
   ]
  },
  {
   "cell_type": "markdown",
   "metadata": {},
   "source": [
    "### Título de proyecto"
   ]
  },
  {
   "attachments": {},
   "cell_type": "markdown",
   "metadata": {},
   "source": [
    "<h1><strong><span style=\"color: #fc9003\"> Tasador de coches online "
   ]
  },
  {
   "cell_type": "markdown",
   "metadata": {},
   "source": [
    "### Tema"
   ]
  },
  {
   "attachments": {},
   "cell_type": "markdown",
   "metadata": {},
   "source": [
    "<h3><span style=\"color: #fcba03\"> Facilitar el valor económico aproximado de la venta de un coche"
   ]
  },
  {
   "attachments": {},
   "cell_type": "markdown",
   "metadata": {},
   "source": [
    "------------------------------------------------------------------------------------------------------------\n",
    "<h5><span style=\"color: #fcba03\"> Muchos usuarios buscan obtener un valor de forma rápida para alentarse a vender su coche, de esta forma proporcionamos una herramienta accesible para ello."
   ]
  },
  {
   "cell_type": "markdown",
   "metadata": {},
   "source": []
  },
  {
   "cell_type": "markdown",
   "metadata": {},
   "source": [
    "### Datasets y fuentes alternativas de datos\n",
    "Incluye aquí una breve descripción del dataset o datasets para tu proyecto. Incluye también las fuentes de cada uno de ellos."
   ]
  },
  {
   "attachments": {},
   "cell_type": "markdown",
   "metadata": {},
   "source": [
    "<h4><span style=\"color: #fcba03\"> Tipo ML: <strong> Regresión </strong><br>\n",
    "Target: <strong> Precio </strong><br>\n",
    "Métricas: <strong> MAE </strong></span></h4>"
   ]
  },
  {
   "attachments": {},
   "cell_type": "markdown",
   "metadata": {},
   "source": [
    "<h4><span style=\"color: #fcba03\">Enlaces: </span><a href> https://www.flexicar.es/coches-segunda-mano/ </a>"
   ]
  },
  {
   "attachments": {},
   "cell_type": "markdown",
   "metadata": {},
   "source": [
    "<h4><span style=\"color: #fcba03\">Conjuntos de datos sin limpiar:"
   ]
  },
  {
   "cell_type": "code",
   "execution_count": 2,
   "metadata": {},
   "outputs": [
    {
     "data": {
      "text/html": [
       "<div>\n",
       "<style scoped>\n",
       "    .dataframe tbody tr th:only-of-type {\n",
       "        vertical-align: middle;\n",
       "    }\n",
       "\n",
       "    .dataframe tbody tr th {\n",
       "        vertical-align: top;\n",
       "    }\n",
       "\n",
       "    .dataframe thead th {\n",
       "        text-align: right;\n",
       "    }\n",
       "</style>\n",
       "<table border=\"1\" class=\"dataframe\">\n",
       "  <thead>\n",
       "    <tr style=\"text-align: right;\">\n",
       "      <th></th>\n",
       "      <th>Marca</th>\n",
       "      <th>Modelo</th>\n",
       "      <th>Versión</th>\n",
       "      <th>Año</th>\n",
       "      <th>Kilómetros</th>\n",
       "      <th>Combustible</th>\n",
       "      <th>Puertas</th>\n",
       "      <th>Cilindrada</th>\n",
       "      <th>Potencia (cv)</th>\n",
       "      <th>Transmisión</th>\n",
       "      <th>Consumo l/100</th>\n",
       "      <th>Precio</th>\n",
       "      <th>Enlace</th>\n",
       "    </tr>\n",
       "  </thead>\n",
       "  <tbody>\n",
       "    <tr>\n",
       "      <th>0</th>\n",
       "      <td>Mitsubishi</td>\n",
       "      <td>ASX</td>\n",
       "      <td>160 MPI Motion</td>\n",
       "      <td>2019.0</td>\n",
       "      <td>47413.0</td>\n",
       "      <td>Gasolina</td>\n",
       "      <td>5.0</td>\n",
       "      <td>1600.0</td>\n",
       "      <td>117.0</td>\n",
       "      <td>Manual</td>\n",
       "      <td>6.6</td>\n",
       "      <td>18990.0</td>\n",
       "      <td>https://www.flexicar.es/coches-ocasion/mitsubi...</td>\n",
       "    </tr>\n",
       "    <tr>\n",
       "      <th>1</th>\n",
       "      <td>Mercedes</td>\n",
       "      <td>B</td>\n",
       "      <td>B 200 d</td>\n",
       "      <td>2019.0</td>\n",
       "      <td>40800.0</td>\n",
       "      <td>Diésel</td>\n",
       "      <td>5.0</td>\n",
       "      <td>2100.0</td>\n",
       "      <td>136.0</td>\n",
       "      <td>Automática</td>\n",
       "      <td>5.3</td>\n",
       "      <td>21990.0</td>\n",
       "      <td>https://www.flexicar.es/coches-ocasion/mercede...</td>\n",
       "    </tr>\n",
       "    <tr>\n",
       "      <th>2</th>\n",
       "      <td>Renault</td>\n",
       "      <td>Captur</td>\n",
       "      <td>Zen TCe 66kW (90CV)</td>\n",
       "      <td>2019.0</td>\n",
       "      <td>62122.0</td>\n",
       "      <td>Gasolina</td>\n",
       "      <td>5.0</td>\n",
       "      <td>900.0</td>\n",
       "      <td>90.0</td>\n",
       "      <td>Manual</td>\n",
       "      <td>5.4</td>\n",
       "      <td>12990.0</td>\n",
       "      <td>https://www.flexicar.es/coches-ocasion/renault...</td>\n",
       "    </tr>\n",
       "    <tr>\n",
       "      <th>3</th>\n",
       "      <td>SEAT</td>\n",
       "      <td>Leon</td>\n",
       "      <td>1.5 TSI 110kW S&amp;S FR</td>\n",
       "      <td>2022.0</td>\n",
       "      <td>5338.0</td>\n",
       "      <td>Gasolina</td>\n",
       "      <td>5.0</td>\n",
       "      <td>1500.0</td>\n",
       "      <td>150.0</td>\n",
       "      <td>Manual</td>\n",
       "      <td>5.7</td>\n",
       "      <td>20490.0</td>\n",
       "      <td>https://www.flexicar.es/coches-ocasion/seat-le...</td>\n",
       "    </tr>\n",
       "    <tr>\n",
       "      <th>4</th>\n",
       "      <td>Peugeot</td>\n",
       "      <td>2008</td>\n",
       "      <td>Active Pack BlueHDI 81kW (110CV)</td>\n",
       "      <td>2021.0</td>\n",
       "      <td>58885.0</td>\n",
       "      <td>Diésel</td>\n",
       "      <td>5.0</td>\n",
       "      <td>1500.0</td>\n",
       "      <td>110.0</td>\n",
       "      <td>Manual</td>\n",
       "      <td>3.6</td>\n",
       "      <td>14490.0</td>\n",
       "      <td>https://www.flexicar.es/coches-ocasion/peugeot...</td>\n",
       "    </tr>\n",
       "  </tbody>\n",
       "</table>\n",
       "</div>"
      ],
      "text/plain": [
       "        Marca  Modelo                           Versión     Año  Kilómetros   \n",
       "0  Mitsubishi     ASX                    160 MPI Motion  2019.0     47413.0  \\\n",
       "1    Mercedes       B                           B 200 d  2019.0     40800.0   \n",
       "2     Renault  Captur               Zen TCe 66kW (90CV)  2019.0     62122.0   \n",
       "3        SEAT    Leon              1.5 TSI 110kW S&S FR  2022.0      5338.0   \n",
       "4     Peugeot    2008  Active Pack BlueHDI 81kW (110CV)  2021.0     58885.0   \n",
       "\n",
       "  Combustible  Puertas  Cilindrada  Potencia (cv) Transmisión  Consumo l/100   \n",
       "0    Gasolina      5.0      1600.0          117.0      Manual            6.6  \\\n",
       "1      Diésel      5.0      2100.0          136.0  Automática            5.3   \n",
       "2    Gasolina      5.0       900.0           90.0      Manual            5.4   \n",
       "3    Gasolina      5.0      1500.0          150.0      Manual            5.7   \n",
       "4      Diésel      5.0      1500.0          110.0      Manual            3.6   \n",
       "\n",
       "    Precio                                             Enlace  \n",
       "0  18990.0  https://www.flexicar.es/coches-ocasion/mitsubi...  \n",
       "1  21990.0  https://www.flexicar.es/coches-ocasion/mercede...  \n",
       "2  12990.0  https://www.flexicar.es/coches-ocasion/renault...  \n",
       "3  20490.0  https://www.flexicar.es/coches-ocasion/seat-le...  \n",
       "4  14490.0  https://www.flexicar.es/coches-ocasion/peugeot...  "
      ]
     },
     "execution_count": 2,
     "metadata": {},
     "output_type": "execute_result"
    }
   ],
   "source": [
    "import pandas as pd\n",
    "df_1 = pd.read_json('Data/raw/flexidata.json')\n",
    "df_1.head()"
   ]
  },
  {
   "cell_type": "code",
   "execution_count": 3,
   "metadata": {},
   "outputs": [
    {
     "data": {
      "text/html": [
       "<div>\n",
       "<style scoped>\n",
       "    .dataframe tbody tr th:only-of-type {\n",
       "        vertical-align: middle;\n",
       "    }\n",
       "\n",
       "    .dataframe tbody tr th {\n",
       "        vertical-align: top;\n",
       "    }\n",
       "\n",
       "    .dataframe thead th {\n",
       "        text-align: right;\n",
       "    }\n",
       "</style>\n",
       "<table border=\"1\" class=\"dataframe\">\n",
       "  <thead>\n",
       "    <tr style=\"text-align: right;\">\n",
       "      <th></th>\n",
       "      <th>Marca</th>\n",
       "      <th>Modelo</th>\n",
       "      <th>Año</th>\n",
       "      <th>Kilómetros</th>\n",
       "      <th>Combustible</th>\n",
       "      <th>Cilindrada</th>\n",
       "      <th>Potencia (cv)</th>\n",
       "      <th>Transmisión</th>\n",
       "      <th>Consumo l/100</th>\n",
       "      <th>Precio</th>\n",
       "    </tr>\n",
       "  </thead>\n",
       "  <tbody>\n",
       "    <tr>\n",
       "      <th>0</th>\n",
       "      <td>Peugeot</td>\n",
       "      <td>208</td>\n",
       "      <td>2015</td>\n",
       "      <td>72090</td>\n",
       "      <td>Gasolina</td>\n",
       "      <td>1200</td>\n",
       "      <td>110</td>\n",
       "      <td>Manual</td>\n",
       "      <td>4.5</td>\n",
       "      <td>9990</td>\n",
       "    </tr>\n",
       "    <tr>\n",
       "      <th>1</th>\n",
       "      <td>Peugeot</td>\n",
       "      <td>208</td>\n",
       "      <td>2015</td>\n",
       "      <td>72090</td>\n",
       "      <td>Gasolina</td>\n",
       "      <td>1200</td>\n",
       "      <td>110</td>\n",
       "      <td>Manual</td>\n",
       "      <td>4.5</td>\n",
       "      <td>9990</td>\n",
       "    </tr>\n",
       "    <tr>\n",
       "      <th>2</th>\n",
       "      <td>Peugeot</td>\n",
       "      <td>208</td>\n",
       "      <td>2015</td>\n",
       "      <td>72090</td>\n",
       "      <td>Gasolina</td>\n",
       "      <td>1200</td>\n",
       "      <td>110</td>\n",
       "      <td>Manual</td>\n",
       "      <td>4.5</td>\n",
       "      <td>9990</td>\n",
       "    </tr>\n",
       "    <tr>\n",
       "      <th>3</th>\n",
       "      <td>Volkswagen</td>\n",
       "      <td>Touran</td>\n",
       "      <td>2017</td>\n",
       "      <td>116801</td>\n",
       "      <td>Diésel</td>\n",
       "      <td>1600</td>\n",
       "      <td>115</td>\n",
       "      <td>Manual</td>\n",
       "      <td>4.4</td>\n",
       "      <td>14990</td>\n",
       "    </tr>\n",
       "    <tr>\n",
       "      <th>4</th>\n",
       "      <td>Volkswagen</td>\n",
       "      <td>Golf</td>\n",
       "      <td>2014</td>\n",
       "      <td>104198</td>\n",
       "      <td>Diésel</td>\n",
       "      <td>2000</td>\n",
       "      <td>184</td>\n",
       "      <td>Automática</td>\n",
       "      <td>4.5</td>\n",
       "      <td>16190</td>\n",
       "    </tr>\n",
       "  </tbody>\n",
       "</table>\n",
       "</div>"
      ],
      "text/plain": [
       "        Marca  Modelo   Año  Kilómetros Combustible  Cilindrada   \n",
       "0     Peugeot     208  2015       72090    Gasolina        1200  \\\n",
       "1     Peugeot     208  2015       72090    Gasolina        1200   \n",
       "2     Peugeot     208  2015       72090    Gasolina        1200   \n",
       "3  Volkswagen  Touran  2017      116801      Diésel        1600   \n",
       "4  Volkswagen    Golf  2014      104198      Diésel        2000   \n",
       "\n",
       "   Potencia (cv) Transmisión  Consumo l/100  Precio  \n",
       "0            110      Manual            4.5    9990  \n",
       "1            110      Manual            4.5    9990  \n",
       "2            110      Manual            4.5    9990  \n",
       "3            115      Manual            4.4   14990  \n",
       "4            184  Automática            4.5   16190  "
      ]
     },
     "execution_count": 3,
     "metadata": {},
     "output_type": "execute_result"
    }
   ],
   "source": [
    "df_2 = pd.read_json('Data/raw/flexidata2.json')\n",
    "df_2.head()"
   ]
  },
  {
   "cell_type": "code",
   "execution_count": 4,
   "metadata": {},
   "outputs": [
    {
     "name": "stdout",
     "output_type": "stream",
     "text": [
      "<class 'pandas.core.frame.DataFrame'>\n",
      "RangeIndex: 2578 entries, 0 to 2577\n",
      "Data columns (total 13 columns):\n",
      " #   Column         Non-Null Count  Dtype  \n",
      "---  ------         --------------  -----  \n",
      " 0   Marca          2578 non-null   object \n",
      " 1   Modelo         2578 non-null   object \n",
      " 2   Versión        2574 non-null   object \n",
      " 3   Año            2574 non-null   float64\n",
      " 4   Kilómetros     2574 non-null   float64\n",
      " 5   Combustible    2574 non-null   object \n",
      " 6   Puertas        2574 non-null   float64\n",
      " 7   Cilindrada     2574 non-null   float64\n",
      " 8   Potencia (cv)  2574 non-null   float64\n",
      " 9   Transmisión    2574 non-null   object \n",
      " 10  Consumo l/100  2485 non-null   float64\n",
      " 11  Precio         2574 non-null   float64\n",
      " 12  Enlace         2578 non-null   object \n",
      "dtypes: float64(7), object(6)\n",
      "memory usage: 262.0+ KB\n"
     ]
    }
   ],
   "source": [
    "df_1.info()"
   ]
  },
  {
   "cell_type": "code",
   "execution_count": 5,
   "metadata": {},
   "outputs": [
    {
     "name": "stdout",
     "output_type": "stream",
     "text": [
      "<class 'pandas.core.frame.DataFrame'>\n",
      "RangeIndex: 2333 entries, 0 to 2332\n",
      "Data columns (total 10 columns):\n",
      " #   Column         Non-Null Count  Dtype  \n",
      "---  ------         --------------  -----  \n",
      " 0   Marca          2333 non-null   object \n",
      " 1   Modelo         2333 non-null   object \n",
      " 2   Año            2333 non-null   int64  \n",
      " 3   Kilómetros     2333 non-null   int64  \n",
      " 4   Combustible    2333 non-null   object \n",
      " 5   Cilindrada     2333 non-null   int64  \n",
      " 6   Potencia (cv)  2333 non-null   int64  \n",
      " 7   Transmisión    2333 non-null   object \n",
      " 8   Consumo l/100  2323 non-null   float64\n",
      " 9   Precio         2333 non-null   int64  \n",
      "dtypes: float64(1), int64(5), object(4)\n",
      "memory usage: 182.4+ KB\n"
     ]
    }
   ],
   "source": [
    "df_2.info()"
   ]
  },
  {
   "cell_type": "code",
   "execution_count": null,
   "metadata": {},
   "outputs": [],
   "source": []
  }
 ],
 "metadata": {
  "interpreter": {
   "hash": "7c77fdb427e7cbc9bc1367dd530fc2b36aacdbbde1ac83c85833b10dfa8b831c"
  },
  "kernelspec": {
   "display_name": "Python 3.7.4 64-bit",
   "language": "python",
   "name": "python3"
  },
  "language_info": {
   "codemirror_mode": {
    "name": "ipython",
    "version": 3
   },
   "file_extension": ".py",
   "mimetype": "text/x-python",
   "name": "python",
   "nbconvert_exporter": "python",
   "pygments_lexer": "ipython3",
   "version": "3.9.16"
  },
  "orig_nbformat": 4
 },
 "nbformat": 4,
 "nbformat_minor": 2
}
